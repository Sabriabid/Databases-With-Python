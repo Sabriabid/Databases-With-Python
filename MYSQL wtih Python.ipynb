{
 "cells": [
  {
   "cell_type": "code",
   "execution_count": null,
   "metadata": {},
   "outputs": [],
   "source": [
    "import mysql.connector\n",
    "\n",
    "new_db = mysql.connector.connect(\n",
    "    host = \"localhost\",\n",
    "    user = \"root\",\n",
    "    password = \"root\"\n",
    ")\n",
    "print(new_db)"
   ]
  },
  {
   "attachments": {},
   "cell_type": "markdown",
   "metadata": {},
   "source": [
    "Creating A Database "
   ]
  },
  {
   "cell_type": "code",
   "execution_count": null,
   "metadata": {},
   "outputs": [],
   "source": [
    "new_cursor = new_db.cursor()\n",
    "\n",
    "#Create a new data base\n",
    "new_cursor.execute(\"CREATE DATABASE newdata\")\n",
    "\n"
   ]
  },
  {
   "cell_type": "code",
   "execution_count": null,
   "metadata": {},
   "outputs": [],
   "source": [
    "new_cursor.execute(\"SHOW DATABASES\")\n",
    "for n in new_cursor:\n",
    "    print(n)"
   ]
  },
  {
   "cell_type": "code",
   "execution_count": null,
   "metadata": {},
   "outputs": [],
   "source": [
    "new_db = mysql.connector.connect(\n",
    "    host = \"localhost\",\n",
    "    user = \"root\",\n",
    "    password = \"root\",\n",
    "    database = \"newdata\"\n",
    ")"
   ]
  },
  {
   "attachments": {},
   "cell_type": "markdown",
   "metadata": {},
   "source": [
    "Creating Tables and Showing Data"
   ]
  },
  {
   "cell_type": "code",
   "execution_count": 19,
   "metadata": {},
   "outputs": [],
   "source": [
    "import mysql.connector \n",
    "\n",
    "new_db = mysql.connector.connect(\n",
    "    host = \"localhost\",\n",
    "    user = \"root\",\n",
    "    password = \"root\",\n",
    "    database = \"newdata\"\n",
    ")\n",
    "new_cursor = new_db.cursor()\n",
    "\n",
    "new_cursor.execute(\"CREATE TABLE students (name VARCHAR(255), code VARCHAR(255))\")"
   ]
  },
  {
   "attachments": {},
   "cell_type": "markdown",
   "metadata": {},
   "source": [
    "List all tables in newdata \n"
   ]
  },
  {
   "cell_type": "code",
   "execution_count": 22,
   "metadata": {},
   "outputs": [
    {
     "name": "stdout",
     "output_type": "stream",
     "text": [
      "('students',)\n"
     ]
    }
   ],
   "source": [
    "new_cursor.execute(\"SHOW TABLES\")\n",
    "for x in new_cursor:\n",
    "    print(x)"
   ]
  },
  {
   "attachments": {},
   "cell_type": "markdown",
   "metadata": {},
   "source": [
    "Add PRIMARY KEY if when creating table"
   ]
  },
  {
   "cell_type": "code",
   "execution_count": 1,
   "metadata": {},
   "outputs": [],
   "source": [
    "import mysql.connector \n",
    "\n",
    "new_db = mysql.connector.connect(\n",
    "    host = \"localhost\",\n",
    "    user = \"root\",\n",
    "    password = \"root\",\n",
    "    database = \"newdata\"\n",
    ")\n",
    "new_cursor = new_db.cursor()\n",
    "\n",
    "new_cursor.execute(\"CREATE TABLE clients  (id INT AUTO_INCREMENT PRIMARY KEY, name VARCHAR(255), code VARCHAR(255))\")"
   ]
  },
  {
   "attachments": {},
   "cell_type": "markdown",
   "metadata": {},
   "source": [
    "Add PRIMARY KEY if table already exists"
   ]
  },
  {
   "cell_type": "code",
   "execution_count": 3,
   "metadata": {},
   "outputs": [
    {
     "ename": "ProgrammingError",
     "evalue": "1060 (42S21): Duplicate column name 'id'",
     "output_type": "error",
     "traceback": [
      "\u001b[1;31m---------------------------------------------------------------------------\u001b[0m",
      "\u001b[1;31mMySQLInterfaceError\u001b[0m                       Traceback (most recent call last)",
      "File \u001b[1;32md:\\Python\\Lib\\site-packages\\mysql\\connector\\connection_cext.py:608\u001b[0m, in \u001b[0;36mCMySQLConnection.cmd_query\u001b[1;34m(self, query, raw, buffered, raw_as_string)\u001b[0m\n\u001b[0;32m    607\u001b[0m         query \u001b[39m=\u001b[39m query\u001b[39m.\u001b[39mencode(\u001b[39m\"\u001b[39m\u001b[39mutf-8\u001b[39m\u001b[39m\"\u001b[39m)\n\u001b[1;32m--> 608\u001b[0m     \u001b[39mself\u001b[39;49m\u001b[39m.\u001b[39;49m_cmysql\u001b[39m.\u001b[39;49mquery(\n\u001b[0;32m    609\u001b[0m         query,\n\u001b[0;32m    610\u001b[0m         raw\u001b[39m=\u001b[39;49mraw,\n\u001b[0;32m    611\u001b[0m         buffered\u001b[39m=\u001b[39;49mbuffered,\n\u001b[0;32m    612\u001b[0m         raw_as_string\u001b[39m=\u001b[39;49mraw_as_string,\n\u001b[0;32m    613\u001b[0m         query_attrs\u001b[39m=\u001b[39;49m\u001b[39mself\u001b[39;49m\u001b[39m.\u001b[39;49m_query_attrs,\n\u001b[0;32m    614\u001b[0m     )\n\u001b[0;32m    615\u001b[0m \u001b[39mexcept\u001b[39;00m MySQLInterfaceError \u001b[39mas\u001b[39;00m err:\n",
      "\u001b[1;31mMySQLInterfaceError\u001b[0m: Duplicate column name 'id'",
      "\nThe above exception was the direct cause of the following exception:\n",
      "\u001b[1;31mProgrammingError\u001b[0m                          Traceback (most recent call last)",
      "Cell \u001b[1;32mIn[3], line 11\u001b[0m\n\u001b[0;32m      3\u001b[0m new_db \u001b[39m=\u001b[39m mysql\u001b[39m.\u001b[39mconnector\u001b[39m.\u001b[39mconnect(\n\u001b[0;32m      4\u001b[0m     host \u001b[39m=\u001b[39m \u001b[39m\"\u001b[39m\u001b[39mlocalhost\u001b[39m\u001b[39m\"\u001b[39m,\n\u001b[0;32m      5\u001b[0m     user \u001b[39m=\u001b[39m \u001b[39m\"\u001b[39m\u001b[39mroot\u001b[39m\u001b[39m\"\u001b[39m,\n\u001b[0;32m      6\u001b[0m     password \u001b[39m=\u001b[39m \u001b[39m\"\u001b[39m\u001b[39mroot\u001b[39m\u001b[39m\"\u001b[39m,\n\u001b[0;32m      7\u001b[0m     database \u001b[39m=\u001b[39m \u001b[39m\"\u001b[39m\u001b[39mnewdata\u001b[39m\u001b[39m\"\u001b[39m\n\u001b[0;32m      8\u001b[0m )\n\u001b[0;32m      9\u001b[0m new_cursor \u001b[39m=\u001b[39m new_db\u001b[39m.\u001b[39mcursor()\n\u001b[1;32m---> 11\u001b[0m new_cursor\u001b[39m.\u001b[39;49mexecute(\u001b[39m\"\u001b[39;49m\u001b[39mALTER TABLE students ADD COLUMN id INT AUTO_INCREMENT PRIMARY KEY\u001b[39;49m\u001b[39m\"\u001b[39;49m)\n",
      "File \u001b[1;32md:\\Python\\Lib\\site-packages\\mysql\\connector\\cursor_cext.py:330\u001b[0m, in \u001b[0;36mCMySQLCursor.execute\u001b[1;34m(self, operation, params, multi)\u001b[0m\n\u001b[0;32m    325\u001b[0m             \u001b[39mraise\u001b[39;00m ProgrammingError(\n\u001b[0;32m    326\u001b[0m                 \u001b[39m\"\u001b[39m\u001b[39mNot all parameters were used in the SQL statement\u001b[39m\u001b[39m\"\u001b[39m\n\u001b[0;32m    327\u001b[0m             )\n\u001b[0;32m    329\u001b[0m \u001b[39mtry\u001b[39;00m:\n\u001b[1;32m--> 330\u001b[0m     result \u001b[39m=\u001b[39m \u001b[39mself\u001b[39;49m\u001b[39m.\u001b[39;49m_cnx\u001b[39m.\u001b[39;49mcmd_query(\n\u001b[0;32m    331\u001b[0m         stmt,\n\u001b[0;32m    332\u001b[0m         raw\u001b[39m=\u001b[39;49m\u001b[39mself\u001b[39;49m\u001b[39m.\u001b[39;49m_raw,\n\u001b[0;32m    333\u001b[0m         buffered\u001b[39m=\u001b[39;49m\u001b[39mself\u001b[39;49m\u001b[39m.\u001b[39;49m_buffered,\n\u001b[0;32m    334\u001b[0m         raw_as_string\u001b[39m=\u001b[39;49m\u001b[39mself\u001b[39;49m\u001b[39m.\u001b[39;49m_raw_as_string,\n\u001b[0;32m    335\u001b[0m     )\n\u001b[0;32m    336\u001b[0m \u001b[39mexcept\u001b[39;00m MySQLInterfaceError \u001b[39mas\u001b[39;00m err:\n\u001b[0;32m    337\u001b[0m     \u001b[39mraise\u001b[39;00m get_mysql_exception(\n\u001b[0;32m    338\u001b[0m         msg\u001b[39m=\u001b[39merr\u001b[39m.\u001b[39mmsg, errno\u001b[39m=\u001b[39merr\u001b[39m.\u001b[39merrno, sqlstate\u001b[39m=\u001b[39merr\u001b[39m.\u001b[39msqlstate\n\u001b[0;32m    339\u001b[0m     ) \u001b[39mfrom\u001b[39;00m \u001b[39merr\u001b[39;00m\n",
      "File \u001b[1;32md:\\Python\\Lib\\site-packages\\mysql\\connector\\connection_cext.py:616\u001b[0m, in \u001b[0;36mCMySQLConnection.cmd_query\u001b[1;34m(self, query, raw, buffered, raw_as_string)\u001b[0m\n\u001b[0;32m    608\u001b[0m     \u001b[39mself\u001b[39m\u001b[39m.\u001b[39m_cmysql\u001b[39m.\u001b[39mquery(\n\u001b[0;32m    609\u001b[0m         query,\n\u001b[0;32m    610\u001b[0m         raw\u001b[39m=\u001b[39mraw,\n\u001b[1;32m   (...)\u001b[0m\n\u001b[0;32m    613\u001b[0m         query_attrs\u001b[39m=\u001b[39m\u001b[39mself\u001b[39m\u001b[39m.\u001b[39m_query_attrs,\n\u001b[0;32m    614\u001b[0m     )\n\u001b[0;32m    615\u001b[0m \u001b[39mexcept\u001b[39;00m MySQLInterfaceError \u001b[39mas\u001b[39;00m err:\n\u001b[1;32m--> 616\u001b[0m     \u001b[39mraise\u001b[39;00m get_mysql_exception(\n\u001b[0;32m    617\u001b[0m         err\u001b[39m.\u001b[39merrno, msg\u001b[39m=\u001b[39merr\u001b[39m.\u001b[39mmsg, sqlstate\u001b[39m=\u001b[39merr\u001b[39m.\u001b[39msqlstate\n\u001b[0;32m    618\u001b[0m     ) \u001b[39mfrom\u001b[39;00m \u001b[39merr\u001b[39;00m\n\u001b[0;32m    619\u001b[0m \u001b[39mexcept\u001b[39;00m \u001b[39mAttributeError\u001b[39;00m \u001b[39mas\u001b[39;00m err:\n\u001b[0;32m    620\u001b[0m     addr \u001b[39m=\u001b[39m (\n\u001b[0;32m    621\u001b[0m         \u001b[39mself\u001b[39m\u001b[39m.\u001b[39m_unix_socket \u001b[39mif\u001b[39;00m \u001b[39mself\u001b[39m\u001b[39m.\u001b[39m_unix_socket \u001b[39melse\u001b[39;00m \u001b[39mf\u001b[39m\u001b[39m\"\u001b[39m\u001b[39m{\u001b[39;00m\u001b[39mself\u001b[39m\u001b[39m.\u001b[39m_host\u001b[39m}\u001b[39;00m\u001b[39m:\u001b[39m\u001b[39m{\u001b[39;00m\u001b[39mself\u001b[39m\u001b[39m.\u001b[39m_port\u001b[39m}\u001b[39;00m\u001b[39m\"\u001b[39m\n\u001b[0;32m    622\u001b[0m     )\n",
      "\u001b[1;31mProgrammingError\u001b[0m: 1060 (42S21): Duplicate column name 'id'"
     ]
    }
   ],
   "source": [
    "import mysql.connector \n",
    "\n",
    "new_db = mysql.connector.connect(\n",
    "    host = \"localhost\",\n",
    "    user = \"root\",\n",
    "    password = \"root\",\n",
    "    database = \"newdata\"\n",
    ")\n",
    "new_cursor = new_db.cursor()\n",
    "\n",
    "new_cursor.execute(\"ALTER TABLE students ADD COLUMN id INT AUTO_INCREMENT PRIMARY KEY\")"
   ]
  },
  {
   "cell_type": "code",
   "execution_count": 4,
   "metadata": {},
   "outputs": [
    {
     "name": "stdout",
     "output_type": "stream",
     "text": [
      "1 new record inserted\n"
     ]
    }
   ],
   "source": [
    "new_sql = \"INSERT INTO students (name, code) VALUES (%s, %s)\"\n",
    "new_vals = (\"Sabri\", \"CODE12\")\n",
    "\n",
    "new_cursor.execute(new_sql, new_vals)\n",
    "\n",
    "new_db.commit()\n",
    "\n",
    "print(new_cursor.rowcount, \"new record inserted\")"
   ]
  },
  {
   "attachments": {},
   "cell_type": "markdown",
   "metadata": {},
   "source": [
    "Inserting many records into tables"
   ]
  },
  {
   "cell_type": "code",
   "execution_count": 11,
   "metadata": {},
   "outputs": [
    {
     "name": "stdout",
     "output_type": "stream",
     "text": [
      "4 new record inserted\n"
     ]
    }
   ],
   "source": [
    "import mysql.connector \n",
    "\n",
    "new_db = mysql.connector.connect(\n",
    "    host = \"localhost\",\n",
    "    user = \"root\",\n",
    "    password = \"root\",\n",
    "    database = \"newdata\"\n",
    ")\n",
    "new_cursor = new_db.cursor()\n",
    "\n",
    "new_sql = \"INSERT INTO students (name, code) VALUES (%s, %s)\"\n",
    "new_vals = [\n",
    "    (\"Frank\", \"CODE30\"),\n",
    "    (\"Rayane\", \"CODE10\"),\n",
    "    (\"Yanis\", \"CODE15\"),\n",
    "    (\"Lucas\", \"CODE55\")\n",
    "]\n",
    "\n",
    "new_cursor.executemany(new_sql, new_vals)\n",
    "\n",
    "new_db.commit()\n",
    "print(new_cursor.rowcount, \"new record inserted\")"
   ]
  },
  {
   "attachments": {},
   "cell_type": "markdown",
   "metadata": {},
   "source": [
    "Select table's data"
   ]
  },
  {
   "cell_type": "code",
   "execution_count": 12,
   "metadata": {},
   "outputs": [
    {
     "name": "stdout",
     "output_type": "stream",
     "text": [
      "('Sabri', 'CODE12', 1)\n",
      "('Frank', 'CODE30', 6)\n",
      "('Rayane', 'CODE10', 7)\n",
      "('Yanis', 'CODE15', 8)\n",
      "('Lucas', 'CODE55', 9)\n",
      "('Frank', 'CODE30', 10)\n",
      "('Rayane', 'CODE10', 11)\n",
      "('Yanis', 'CODE15', 12)\n",
      "('Lucas', 'CODE55', 13)\n",
      "('Frank', 'CODE30', 14)\n",
      "('Rayane', 'CODE10', 15)\n",
      "('Yanis', 'CODE15', 16)\n",
      "('Lucas', 'CODE55', 17)\n",
      "('Frank', 'CODE30', 18)\n",
      "('Rayane', 'CODE10', 19)\n",
      "('Yanis', 'CODE15', 20)\n",
      "('Lucas', 'CODE55', 21)\n",
      "('Frank', 'CODE30', 22)\n",
      "('Rayane', 'CODE10', 23)\n",
      "('Yanis', 'CODE15', 24)\n",
      "('Lucas', 'CODE55', 25)\n"
     ]
    }
   ],
   "source": [
    "import mysql.connector \n",
    "\n",
    "new_db = mysql.connector.connect(\n",
    "    host = \"localhost\",\n",
    "    user = \"root\",\n",
    "    password = \"root\",\n",
    "    database = \"newdata\"\n",
    ")\n",
    "new_cursor = new_db.cursor()\n",
    "\n",
    "new_cursor.execute(\"SELECT * FROM students\")\n",
    "\n",
    "new_data = new_cursor.fetchall()\n",
    "\n",
    "for x in new_data:\n",
    "    print(x) \n"
   ]
  },
  {
   "attachments": {},
   "cell_type": "markdown",
   "metadata": {},
   "source": [
    "Select data from columns"
   ]
  },
  {
   "cell_type": "code",
   "execution_count": 13,
   "metadata": {},
   "outputs": [
    {
     "name": "stdout",
     "output_type": "stream",
     "text": [
      "('Sabri', 'CODE12')\n",
      "('Frank', 'CODE30')\n",
      "('Rayane', 'CODE10')\n",
      "('Yanis', 'CODE15')\n",
      "('Lucas', 'CODE55')\n",
      "('Frank', 'CODE30')\n",
      "('Rayane', 'CODE10')\n",
      "('Yanis', 'CODE15')\n",
      "('Lucas', 'CODE55')\n",
      "('Frank', 'CODE30')\n",
      "('Rayane', 'CODE10')\n",
      "('Yanis', 'CODE15')\n",
      "('Lucas', 'CODE55')\n",
      "('Frank', 'CODE30')\n",
      "('Rayane', 'CODE10')\n",
      "('Yanis', 'CODE15')\n",
      "('Lucas', 'CODE55')\n",
      "('Frank', 'CODE30')\n",
      "('Rayane', 'CODE10')\n",
      "('Yanis', 'CODE15')\n",
      "('Lucas', 'CODE55')\n"
     ]
    }
   ],
   "source": [
    "import mysql.connector \n",
    "\n",
    "new_db = mysql.connector.connect(\n",
    "    host = \"localhost\",\n",
    "    user = \"root\",\n",
    "    password = \"root\",\n",
    "    database = \"newdata\"\n",
    ")\n",
    "new_cursor = new_db.cursor()\n",
    "\n",
    "new_cursor.execute(\"SELECT name, code FROM students\")\n",
    "\n",
    "new_data = new_cursor.fetchall()\n",
    "\n",
    "for x in new_data:\n",
    "    print(x) "
   ]
  },
  {
   "attachments": {},
   "cell_type": "markdown",
   "metadata": {},
   "source": [
    "Fetch the first row "
   ]
  },
  {
   "cell_type": "code",
   "execution_count": 18,
   "metadata": {},
   "outputs": [
    {
     "name": "stdout",
     "output_type": "stream",
     "text": [
      "('Sabri', 'CODE12', 1)\n"
     ]
    }
   ],
   "source": [
    "import mysql.connector \n",
    "\n",
    "new_db = mysql.connector.connect(\n",
    "    host = \"localhost\",\n",
    "    user = \"root\",\n",
    "    password = \"root\",\n",
    "    database = \"newdata\"\n",
    ")\n",
    "new_cursor = new_db.cursor()\n",
    "\n",
    "new_cursor.execute(\"SELECT * FROM students\")\n",
    "\n",
    "new_data = new_cursor.fetchone()\n",
    "\n",
    "print(new_data)"
   ]
  },
  {
   "attachments": {},
   "cell_type": "markdown",
   "metadata": {},
   "source": [
    "Filter the result"
   ]
  },
  {
   "cell_type": "code",
   "execution_count": 21,
   "metadata": {},
   "outputs": [
    {
     "name": "stdout",
     "output_type": "stream",
     "text": [
      "('Yanis', 'CODE15', 8)\n",
      "('Yanis', 'CODE15', 12)\n",
      "('Yanis', 'CODE15', 16)\n",
      "('Yanis', 'CODE15', 20)\n",
      "('Yanis', 'CODE15', 24)\n"
     ]
    }
   ],
   "source": [
    "import mysql.connector \n",
    "\n",
    "new_db = mysql.connector.connect(\n",
    "    host = \"localhost\",\n",
    "    user = \"root\",\n",
    "    password = \"root\",\n",
    "    database = \"newdata\"\n",
    ")\n",
    "new_cursor = new_db.cursor()\n",
    "\n",
    "new_cursor.execute(\"SELECT * FROM students WHERE name = 'Yanis'\")\n",
    "\n",
    "new_data = new_cursor.fetchall()\n",
    "\n",
    "for x in new_data:\n",
    "    print(x) "
   ]
  },
  {
   "cell_type": "code",
   "execution_count": 23,
   "metadata": {},
   "outputs": [
    {
     "name": "stdout",
     "output_type": "stream",
     "text": [
      "('Rayane', 'CODE10', 7)\n",
      "('Yanis', 'CODE15', 8)\n",
      "('Rayane', 'CODE10', 11)\n",
      "('Yanis', 'CODE15', 12)\n",
      "('Rayane', 'CODE10', 15)\n",
      "('Yanis', 'CODE15', 16)\n",
      "('Rayane', 'CODE10', 19)\n",
      "('Yanis', 'CODE15', 20)\n",
      "('Rayane', 'CODE10', 23)\n",
      "('Yanis', 'CODE15', 24)\n"
     ]
    }
   ],
   "source": [
    "import mysql.connector \n",
    "\n",
    "new_db = mysql.connector.connect(\n",
    "    host = \"localhost\",\n",
    "    user = \"root\",\n",
    "    password = \"root\",\n",
    "    database = \"newdata\"\n",
    ")\n",
    "new_cursor = new_db.cursor()\n",
    "\n",
    "new_cursor.execute(\"SELECT * FROM students WHERE name LIKE '%Ya%'\")\n",
    "\n",
    "new_data = new_cursor.fetchall()\n",
    "\n",
    "for x in new_data:\n",
    "    print(x) \n"
   ]
  },
  {
   "cell_type": "code",
   "execution_count": 36,
   "metadata": {},
   "outputs": [
    {
     "name": "stdout",
     "output_type": "stream",
     "text": [
      "('Lucas', 'CODE55', 9)\n",
      "('Lucas', 'CODE55', 13)\n",
      "('Lucas', 'CODE55', 17)\n",
      "('Lucas', 'CODE55', 21)\n",
      "('Lucas', 'CODE55', 25)\n",
      "('Rayane', 'CODE10', 7)\n",
      "('Rayane', 'CODE10', 11)\n",
      "('Rayane', 'CODE10', 15)\n",
      "('Rayane', 'CODE10', 19)\n",
      "('Rayane', 'CODE10', 23)\n",
      "('Sabri', 'CODE07', 1)\n"
     ]
    }
   ],
   "source": [
    "import mysql.connector \n",
    "\n",
    "new_db = mysql.connector.connect(\n",
    "    host = \"localhost\",\n",
    "    user = \"root\",\n",
    "    password = \"root\",\n",
    "    database = \"newdata\"\n",
    ")\n",
    "new_cursor = new_db.cursor()\n",
    "\n",
    "new_cursor.execute(\"SELECT * FROM students ORDER BY name\") #ORDER BY code DESC\n",
    "\n",
    "new_data = new_cursor.fetchall()\n",
    "\n",
    "for x in new_data:\n",
    "    print(x) "
   ]
  },
  {
   "cell_type": "code",
   "execution_count": 29,
   "metadata": {},
   "outputs": [
    {
     "name": "stdout",
     "output_type": "stream",
     "text": [
      "0 records deleted from students from newdata\n"
     ]
    }
   ],
   "source": [
    "import mysql.connector \n",
    "\n",
    "new_db = mysql.connector.connect(\n",
    "    host = \"localhost\",\n",
    "    user = \"root\",\n",
    "    password = \"root\",\n",
    "    database = \"newdata\"\n",
    ")\n",
    "new_cursor = new_db.cursor()\n",
    "\n",
    "new_sql = \"DELETE FROM students WHERE name = %s\" #ORDER BY code DESC\n",
    "name = (\"Frank\",)\n",
    "\n",
    "new_cursor.execute(new_sql, name)\n",
    "new_db.commit()\n",
    "\n",
    "print(new_cursor.rowcount, \"records deleted from students from newdata\")"
   ]
  },
  {
   "attachments": {},
   "cell_type": "markdown",
   "metadata": {},
   "source": [
    "Deleting table"
   ]
  },
  {
   "cell_type": "code",
   "execution_count": 32,
   "metadata": {},
   "outputs": [],
   "source": [
    "import mysql.connector \n",
    "\n",
    "new_db = mysql.connector.connect(\n",
    "    host = \"localhost\",\n",
    "    user = \"root\",\n",
    "    password = \"root\",\n",
    "    database = \"newdata\"\n",
    ")\n",
    "new_cursor = new_db.cursor()\n",
    "\n",
    "new_sql = \"DROP TABLE IF EXISTS clients\" #ORDER BY code DESC\n",
    "\n",
    "new_cursor.execute(new_sql)\n",
    "new_db.commit()"
   ]
  },
  {
   "attachments": {},
   "cell_type": "markdown",
   "metadata": {},
   "source": [
    "Updating table"
   ]
  },
  {
   "cell_type": "code",
   "execution_count": 35,
   "metadata": {},
   "outputs": [
    {
     "name": "stdout",
     "output_type": "stream",
     "text": [
      "0 records changed in students table!\n"
     ]
    }
   ],
   "source": [
    "import mysql.connector \n",
    "\n",
    "new_db = mysql.connector.connect(\n",
    "    host = \"localhost\",\n",
    "    user = \"root\",\n",
    "    password = \"root\",\n",
    "    database = \"newdata\"\n",
    ")\n",
    "new_cursor = new_db.cursor()\n",
    "\n",
    "new_sql = \"UPDATE students SET code = %s WHERE code = %s\" \n",
    "new_vals = (\"CODE12\", \"CODE07\")\n",
    "new_cursor.execute(new_sql, new_vals)\n",
    "new_db.commit()\n",
    "\n",
    "print(new_cursor.rowcount, \"records changed in students table!\")"
   ]
  },
  {
   "attachments": {},
   "cell_type": "markdown",
   "metadata": {},
   "source": [
    "Limit the record"
   ]
  },
  {
   "cell_type": "code",
   "execution_count": 37,
   "metadata": {},
   "outputs": [
    {
     "name": "stdout",
     "output_type": "stream",
     "text": [
      "('Sabri', 'CODE07', 1)\n",
      "('Rayane', 'CODE10', 7)\n",
      "('Lucas', 'CODE55', 9)\n",
      "('Rayane', 'CODE10', 11)\n"
     ]
    }
   ],
   "source": [
    "import mysql.connector \n",
    "\n",
    "new_db = mysql.connector.connect(\n",
    "    host = \"localhost\",\n",
    "    user = \"root\",\n",
    "    password = \"root\",\n",
    "    database = \"newdata\"\n",
    ")\n",
    "new_cursor = new_db.cursor()\n",
    "\n",
    "new_cursor.execute(\"SELECT * FROM students LIMIT 4\") #ORDER BY code DESC\n",
    "\n",
    "new_data = new_cursor.fetchall()\n",
    "\n",
    "for x in new_data:\n",
    "    print(x) "
   ]
  },
  {
   "cell_type": "code",
   "execution_count": null,
   "metadata": {},
   "outputs": [],
   "source": [
    "import mysql.connector \n",
    "\n",
    "new_db = mysql.connector.connect(\n",
    "    host = \"localhost\",\n",
    "    user = \"root\",\n",
    "    password = \"root\",\n",
    "    database = \"newdata\"\n",
    ")\n",
    "new_cursor = new_db.cursor()\n",
    "\n",
    "new_cursor.execute(\"SELECT * FROM students LIMIT 3 OFFSER 4\") #ORDER BY code DESC\n",
    "\n",
    "new_data = new_cursor.fetchall()\n",
    "\n",
    "for x in new_data:\n",
    "    print(x) "
   ]
  }
 ],
 "metadata": {
  "kernelspec": {
   "display_name": "Python 3",
   "language": "python",
   "name": "python3"
  },
  "language_info": {
   "codemirror_mode": {
    "name": "ipython",
    "version": 3
   },
   "file_extension": ".py",
   "mimetype": "text/x-python",
   "name": "python",
   "nbconvert_exporter": "python",
   "pygments_lexer": "ipython3",
   "version": "3.11.1 (tags/v3.11.1:a7a450f, Dec  6 2022, 19:58:39) [MSC v.1934 64 bit (AMD64)]"
  },
  "orig_nbformat": 4,
  "vscode": {
   "interpreter": {
    "hash": "2469a70536e4d2335a2ea8907942d0699c37342a371ac185bdb5b0aa6f073890"
   }
  }
 },
 "nbformat": 4,
 "nbformat_minor": 2
}
