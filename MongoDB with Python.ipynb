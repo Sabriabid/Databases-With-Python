{
 "cells": [
  {
   "cell_type": "code",
   "execution_count": 1,
   "metadata": {},
   "outputs": [],
   "source": [
    "import pymongo"
   ]
  },
  {
   "cell_type": "code",
   "execution_count": 6,
   "metadata": {},
   "outputs": [
    {
     "name": "stdout",
     "output_type": "stream",
     "text": [
      "<pymongo.results.InsertOneResult object at 0x000001259E5725F0>\n"
     ]
    }
   ],
   "source": [
    "new_client = pymongo.MongoClient('mongodb://localhost:27017/')\n",
    "\n",
    "new_db = new_client['data_test']\n",
    "new_col = new_db['students']\n",
    "\n",
    "new_dict = {\"name\": \"Sabri\", \"code\": \"code10\"}\n",
    "\n",
    "adding = new_col.insert_one(new_dict)\n",
    "print(adding)"
   ]
  },
  {
   "cell_type": "code",
   "execution_count": 21,
   "metadata": {},
   "outputs": [],
   "source": [
    "import pymongo\n",
    "\n",
    "new_client = pymongo.MongoClient('mongodb://localhost:27017')\n",
    "\n",
    "new_db = new_client['new_data']\n",
    "\n",
    "new_col = new_db['students']\n",
    "\n",
    "list_of_students = [\n",
    "    {\"_id\": 1, \"name\": \"Sabri1\", \"code\": \"code101\"},\n",
    "    {\"_id\": 2, \"name\": \"Sabri2\", \"code\": \"code102\"},\n",
    "    {\"_id\": 3, \"name\": \"Sabri3\", \"code\": \"code103\"},\n",
    "    {\"_id\": 4, \"name\": \"Sabri4\", \"code\": \"code104\"},\n",
    "    {\"_id\": 5, \"name\": \"Sabri5\", \"code\": \"code105\"},\n",
    "]\n",
    "\n",
    "adding_many = new_col.insert_many(list_of_students)"
   ]
  },
  {
   "cell_type": "code",
   "execution_count": 11,
   "metadata": {},
   "outputs": [
    {
     "name": "stdout",
     "output_type": "stream",
     "text": [
      "[ObjectId('63cd40c3a8f5745ff0f6dc6b'), ObjectId('63cd40c3a8f5745ff0f6dc6c'), ObjectId('63cd40c3a8f5745ff0f6dc6d'), ObjectId('63cd40c3a8f5745ff0f6dc6e'), ObjectId('63cd40c3a8f5745ff0f6dc6f')]\n"
     ]
    }
   ],
   "source": [
    "print(adding_many.inserted_ids)"
   ]
  },
  {
   "cell_type": "code",
   "execution_count": 13,
   "metadata": {},
   "outputs": [
    {
     "name": "stdout",
     "output_type": "stream",
     "text": [
      "{'_id': 1, 'name': 'Sabri1', 'code': 'code101'}\n"
     ]
    }
   ],
   "source": [
    "finding = new_col.find_one()\n",
    "print(finding)"
   ]
  },
  {
   "cell_type": "code",
   "execution_count": 14,
   "metadata": {},
   "outputs": [
    {
     "name": "stdout",
     "output_type": "stream",
     "text": [
      "{'_id': 1, 'name': 'Sabri1', 'code': 'code101'}\n",
      "{'_id': 2, 'name': 'Sabri2', 'code': 'code102'}\n",
      "{'_id': 3, 'name': 'Sabri3', 'code': 'code103'}\n",
      "{'_id': 4, 'name': 'Sabri4', 'code': 'code104'}\n",
      "{'_id': 5, 'name': 'Sabri5', 'code': 'code105'}\n"
     ]
    }
   ],
   "source": [
    "for docu in new_col.find():\n",
    "    print(docu)"
   ]
  },
  {
   "cell_type": "code",
   "execution_count": 32,
   "metadata": {},
   "outputs": [
    {
     "name": "stdout",
     "output_type": "stream",
     "text": [
      "{'_id': 2, 'name': 'Sabri2', 'code': 'code102'}\n"
     ]
    }
   ],
   "source": [
    "import pymongo \n",
    "\n",
    "new_client = pymongo.MongoClient('mongodb://localhost:27017/')\n",
    "\n",
    "new_db = new_client['new_data']\n",
    "\n",
    "new_col = new_db['students']\n",
    "\n",
    "new_query = {\"code\": \"code102\"} # {\"code\": {\"$gt\": \"code\"}} pour toutes les lignes qui commencent par \"code\"\n",
    "\n",
    "new_doc = new_col.find(new_query)\n",
    "\n",
    "for x in new_doc:\n",
    "    print(x)"
   ]
  },
  {
   "cell_type": "code",
   "execution_count": 33,
   "metadata": {},
   "outputs": [
    {
     "name": "stdout",
     "output_type": "stream",
     "text": [
      "{'_id': 2, 'name': 'Sabri2', 'code': 'code102'}\n",
      "{'_id': 3, 'name': 'Sabri3', 'code': 'code103'}\n",
      "{'_id': 4, 'name': 'Sabri4', 'code': 'code104'}\n",
      "{'_id': 5, 'name': 'Sabri5', 'code': 'code105'}\n"
     ]
    }
   ],
   "source": [
    "new_query = new_col.find().sort(\"code\") # sort(\"code\", -1) pour desc \n",
    "\n",
    "for i in new_query:\n",
    "    print(i)"
   ]
  },
  {
   "cell_type": "code",
   "execution_count": 34,
   "metadata": {},
   "outputs": [
    {
     "name": "stdout",
     "output_type": "stream",
     "text": [
      "{'_id': 3, 'name': 'Sabri3', 'code': 'code103'}\n",
      "{'_id': 4, 'name': 'Sabri4', 'code': 'code104'}\n",
      "{'_id': 5, 'name': 'Sabri5', 'code': 'code105'}\n"
     ]
    }
   ],
   "source": [
    "new_query = {\"code\": \"code102\"}\n",
    "\n",
    "new_col.delete_one(new_query)\n",
    "\n",
    "for x in new_col.find():\n",
    "    print(x)"
   ]
  },
  {
   "cell_type": "code",
   "execution_count": 36,
   "metadata": {},
   "outputs": [
    {
     "name": "stdout",
     "output_type": "stream",
     "text": [
      "1 documents deleted from the collection!\n"
     ]
    }
   ],
   "source": [
    "new_q = {\"code\": {\"$regex\": \"^code105\"}}\n",
    "\n",
    "x = new_col.delete_many(new_q)\n",
    "\n",
    "print(x.deleted_count, \"documents deleted from the collection!\")"
   ]
  },
  {
   "cell_type": "code",
   "execution_count": 38,
   "metadata": {},
   "outputs": [
    {
     "name": "stdout",
     "output_type": "stream",
     "text": [
      "0 documents deleted from the collection!\n"
     ]
    }
   ],
   "source": [
    "remove_all = new_col.delete_many({})\n",
    "\n",
    "print(remove_all.deleted_count, \"documents deleted from the collection!\")"
   ]
  },
  {
   "cell_type": "code",
   "execution_count": 39,
   "metadata": {},
   "outputs": [],
   "source": [
    "new_col.drop()"
   ]
  },
  {
   "cell_type": "code",
   "execution_count": 44,
   "metadata": {},
   "outputs": [],
   "source": [
    "import pymongo\n",
    "\n",
    "new_client = pymongo.MongoClient('mongodb://localhost:27017')\n",
    "\n",
    "new_db = new_client['new_data']\n",
    "\n",
    "new_col = new_db['students']\n",
    "\n",
    "list_of_students = [\n",
    "    {\"_id\": 7, \"name\": \"Sabri1\", \"code\": \"code101\"},\n",
    "    {\"_id\": 8, \"name\": \"Sabri2\", \"code\": \"code102\"},\n",
    "    {\"_id\": 9, \"name\": \"Sabri3\", \"code\": \"code103\"},\n",
    "    {\"_id\": 10, \"name\": \"Sabri4\", \"code\": \"code104\"},\n",
    "    {\"_id\": 11, \"name\": \"Sabri5\", \"code\": \"code105\"},\n",
    "]\n",
    "\n",
    "adding_many = new_col.insert_many(list_of_students)"
   ]
  },
  {
   "cell_type": "code",
   "execution_count": 46,
   "metadata": {},
   "outputs": [
    {
     "name": "stdout",
     "output_type": "stream",
     "text": [
      "{'_id': 1, 'name': 'Sabri1', 'code': 'codezero'}\n",
      "{'_id': 2, 'name': 'Sabri2', 'code': 'code102'}\n",
      "{'_id': 3, 'name': 'Sabri3', 'code': 'code103'}\n",
      "{'_id': 4, 'name': 'Sabri4', 'code': 'code104'}\n",
      "{'_id': 5, 'name': 'Sabri5', 'code': 'code105'}\n",
      "{'_id': 7, 'name': 'Sabri1', 'code': 'codezero'}\n",
      "{'_id': 8, 'name': 'Sabri2', 'code': 'code102'}\n",
      "{'_id': 9, 'name': 'Sabri3', 'code': 'code103'}\n",
      "{'_id': 10, 'name': 'Sabri4', 'code': 'code104'}\n",
      "{'_id': 11, 'name': 'Sabri5', 'code': 'code105'}\n"
     ]
    }
   ],
   "source": [
    "new_q = {\"code\": \"code101\"}\n",
    "new_vals = {\"$set\": {\"code\": \"codezero\"}}\n",
    "\n",
    "new_col.update_one(new_q, new_vals)\n",
    "\n",
    "for i in new_col.find():\n",
    "    print(i)"
   ]
  },
  {
   "cell_type": "code",
   "execution_count": 47,
   "metadata": {},
   "outputs": [
    {
     "name": "stdout",
     "output_type": "stream",
     "text": [
      "{'_id': 1, 'name': 'Sabri1', 'code': 'codezero'}\n",
      "{'_id': 2, 'name': 'Sabri2', 'code': 'code102'}\n",
      "{'_id': 3, 'name': 'Sabri3', 'code': 'code103'}\n"
     ]
    }
   ],
   "source": [
    "result_filter = new_col.find().limit(3)\n",
    "\n",
    "for x in result_filter: \n",
    "    print(x)"
   ]
  },
  {
   "cell_type": "code",
   "execution_count": null,
   "metadata": {},
   "outputs": [],
   "source": []
  }
 ],
 "metadata": {
  "kernelspec": {
   "display_name": "Python 3",
   "language": "python",
   "name": "python3"
  },
  "language_info": {
   "codemirror_mode": {
    "name": "ipython",
    "version": 3
   },
   "file_extension": ".py",
   "mimetype": "text/x-python",
   "name": "python",
   "nbconvert_exporter": "python",
   "pygments_lexer": "ipython3",
   "version": "3.11.1"
  },
  "orig_nbformat": 4,
  "vscode": {
   "interpreter": {
    "hash": "2469a70536e4d2335a2ea8907942d0699c37342a371ac185bdb5b0aa6f073890"
   }
  }
 },
 "nbformat": 4,
 "nbformat_minor": 2
}
